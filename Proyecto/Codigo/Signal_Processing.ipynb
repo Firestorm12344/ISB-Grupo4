{
 "cells": [
  {
   "cell_type": "code",
   "execution_count": 9,
   "metadata": {},
   "outputs": [],
   "source": [
    "import numpy as np\n",
    "import wfdb\n",
    "import os\n",
    "import pandas as pd\n",
    "import matplotlib.pyplot as plt\n",
    "import seaborn as sns\n",
    "import pywt\n",
    "from pyhrv.hrv import hrv\n",
    "import pyhrv"
   ]
  },
  {
   "cell_type": "code",
   "execution_count": 10,
   "metadata": {},
   "outputs": [],
   "source": [
    "def get_data(path):\n",
    "    signals = []\n",
    "    all_meta = []  # To store metadata for each signal\n",
    "    i = 0\n",
    "    # Walk through all directories and subdirectories\n",
    "    for root, dirs, files in os.walk(path):\n",
    "        for filename in files:\n",
    "            if filename.endswith('.hea'):\n",
    "                base_filename = filename[:-4]\n",
    "                hea_filepath = os.path.join(root, base_filename)\n",
    "                try:\n",
    "                    # Read the .hea file using wfdb.rdsamp\n",
    "                    signal, meta = wfdb.rdsamp(hea_filepath)\n",
    "                    signals.append(signal)\n",
    "                    all_meta.append(meta)   \n",
    "                    i+=1\n",
    "                except Exception as e:\n",
    "                    print(f\"Failed to read {hea_filepath}: {e}\")\n",
    "    return signals, all_meta"
   ]
  },
  {
   "cell_type": "code",
   "execution_count": 11,
   "metadata": {},
   "outputs": [],
   "source": [
    "def get_diag(all_meta, csv_file='Nombres.csv'):\n",
    "    diaglist = []\n",
    "    df = pd.read_csv(csv_file)\n",
    "    snomed_cts = df['Snomed_CT'].tolist()\n",
    "    acronym_names = df['Acronym Name'].tolist()\n",
    "    full_names = df[\"Full Name\"].tolist()\n",
    "    #print(acronym_names)\n",
    "    #print(snomed_cts)\n",
    "    #print(full_names)\n",
    "    pairedList = []\n",
    "    for i in range(len(all_meta)):\n",
    "      diagnostics = all_meta[i][\"comments\"][2].split(\" \")[1].split(\",\")\n",
    "      diaglist.append(diagnostics)\n",
    "    return diaglist, full_names, snomed_cts\n",
    "    \n"
   ]
  },
  {
   "cell_type": "code",
   "execution_count": 12,
   "metadata": {},
   "outputs": [],
   "source": [
    "def flatten(lista):\n",
    "    lista_flat = []\n",
    "    for elemento in lista:\n",
    "        if isinstance(elemento, list):\n",
    "            lista_flat.append(elemento[0])\n",
    "            # lista_flat.extend(flatten(elemento))\n",
    "        else:\n",
    "            lista_flat.append(elemento)\n",
    "    return lista_flat"
   ]
  },
  {
   "cell_type": "code",
   "execution_count": 13,
   "metadata": {},
   "outputs": [],
   "source": [
    "def freqCount(lista, names, code):\n",
    "    frecuencias = {}\n",
    "    for elemento in lista:\n",
    "        if elemento in frecuencias:\n",
    "            frecuencias[elemento] += 1\n",
    "        else:\n",
    "            frecuencias[elemento] = 1\n",
    "    frecuencias\n",
    "    rElements = [elemento for elemento, conteo in frecuencias.items() if conteo > 500]\n",
    "    rNames = [names[code.index(int(element))] for element in rElements if int(element) in code]\n",
    "    \n",
    "    return rNames, rElements"
   ]
  },
  {
   "cell_type": "code",
   "execution_count": 14,
   "metadata": {},
   "outputs": [],
   "source": [
    "def filter_Wavelet(ECGsignal1):\n",
    "  # Aplicar la transformada wavelet\n",
    "  coeffs = pywt.wavedec(ECGsignal1, 'db8', level=8)\n",
    "\n",
    "  # Filtrar los coeficientes\n",
    "  threshold = 0.2\n",
    "  filtered_coeffs = [pywt.threshold(coeff, threshold, mode='soft') for coeff in coeffs]\n",
    "\n",
    "  # Reconstruir la señal filtrada\n",
    "  filtered_signal = pywt.waverec(filtered_coeffs, 'db8')\n",
    "  return filtered_signal"
   ]
  },
  {
   "cell_type": "code",
   "execution_count": 15,
   "metadata": {},
   "outputs": [],
   "source": [
    "def get_signals(rCodes, meta, signals):\n",
    "    pairedList = []\n",
    "    dList = []\n",
    "    for i in range(len(meta)):\n",
    "        diagnostics = meta[i][\"comments\"][2].split(\" \")[1].split(\",\")[0]\n",
    "        dList.append(diagnostics)\n",
    "        \n",
    "    for j in range(0, len(rCodes)):\n",
    "        iCode = rCodes[j]\n",
    "        for k in range(0, len(dList)):\n",
    "            kdList=dList[k]\n",
    "            if kdList == iCode:\n",
    "                filSignal = filter_Wavelet(signals[k])\n",
    "                pairedList.append((filSignal, int(iCode)))\n",
    "    return pairedList"
   ]
  },
  {
   "cell_type": "code",
   "execution_count": 16,
   "metadata": {},
   "outputs": [
    {
     "name": "stdout",
     "output_type": "stream",
     "text": [
      "Failed to read C:/Users/Eva/Downloads/a-large-scale-12-lead-electrocardiogram-database-for-arrhythmia-study-1.0.0/a-large-scale-12-lead-electrocardiogram-database-for-arrhythmia-study-1.0.0\\WFDBRecords\\01\\019\\JS01052: time data '/' does not match format '%d/%m/%Y'\n",
      "Failed to read C:/Users/Eva/Downloads/a-large-scale-12-lead-electrocardiogram-database-for-arrhythmia-study-1.0.0/a-large-scale-12-lead-electrocardiogram-database-for-arrhythmia-study-1.0.0\\WFDBRecords\\23\\236\\JS23074: list index out of range\n"
     ]
    }
   ],
   "source": [
    "path =  \"C:/Users/Eva/Downloads/a-large-scale-12-lead-electrocardiogram-database-for-arrhythmia-study-1.0.0/a-large-scale-12-lead-electrocardiogram-database-for-arrhythmia-study-1.0.0\"\n",
    "signals, meta = get_data(path)"
   ]
  },
  {
   "cell_type": "code",
   "execution_count": null,
   "metadata": {},
   "outputs": [],
   "source": [
    "diag, names, code = get_diag(meta)"
   ]
  },
  {
   "cell_type": "code",
   "execution_count": null,
   "metadata": {},
   "outputs": [],
   "source": [
    "flatDiag = flatten(diag)"
   ]
  },
  {
   "cell_type": "code",
   "execution_count": null,
   "metadata": {},
   "outputs": [],
   "source": [
    "rNames, rCodes = freqCount(flatDiag, names, code)"
   ]
  },
  {
   "cell_type": "code",
   "execution_count": null,
   "metadata": {},
   "outputs": [
    {
     "data": {
      "text/plain": [
       "['Atrial Fibrillation',\n",
       " 'Sinus Bradycardia',\n",
       " 'Atrial Flutter',\n",
       " 'Sinus Rhythm',\n",
       " 'Sinus Tachycardia',\n",
       " 'T wave Change',\n",
       " 'Supraventricular Tachycardia',\n",
       " 'atrial\\xa0premature\\xa0beats',\n",
       " 'Sinus Irregularity']"
      ]
     },
     "execution_count": 127,
     "metadata": {},
     "output_type": "execute_result"
    }
   ],
   "source": [
    "rNames"
   ]
  },
  {
   "cell_type": "code",
   "execution_count": null,
   "metadata": {},
   "outputs": [],
   "source": [
    "totList = get_signals(rCodes, meta, signals)"
   ]
  }
 ],
 "metadata": {
  "kernelspec": {
   "display_name": "Python 3",
   "language": "python",
   "name": "python3"
  },
  "language_info": {
   "codemirror_mode": {
    "name": "ipython",
    "version": 3
   },
   "file_extension": ".py",
   "mimetype": "text/x-python",
   "name": "python",
   "nbconvert_exporter": "python",
   "pygments_lexer": "ipython3",
   "version": "3.12.3"
  }
 },
 "nbformat": 4,
 "nbformat_minor": 2
}
